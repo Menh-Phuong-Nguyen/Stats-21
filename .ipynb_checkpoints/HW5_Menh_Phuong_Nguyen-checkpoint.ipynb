{
 "cells": [
  {
   "cell_type": "markdown",
   "metadata": {},
   "source": [
    "# Stats 21: Homework 5\n",
    "## Menh Phuong Nguyen"
   ]
  },
  {
   "cell_type": "markdown",
   "metadata": {},
   "source": [
    "Homework copyright Miles Chen. Problems have been adapted from the exercises in Think Python 2nd Ed by Allen B. Downey.\n",
    "\n",
    "The questions have been entered into this document. You will modify the document by entering your code.\n",
    "\n",
    "Make sure you run the cell so the requested output is visible. Download the finished document as a PDF.\n",
    "\n",
    "You will submit:\n",
    "\n",
    "- the rendered PDF file to Gradescope\n",
    "- this ipynb file with your answers to CCLE\n"
   ]
  },
  {
   "cell_type": "markdown",
   "metadata": {},
   "source": [
    "## Reading\n",
    "\n",
    "- Chapters 15 to 18\n",
    "\n",
    "Please do the reading. The chapters are short."
   ]
  },
  {
   "cell_type": "markdown",
   "metadata": {},
   "source": [
    "### Exercise 15.1\n",
    "\n",
    "Write a definition for a class named Circle with attributes center and radius, where center is a Point object and radius is a number.\n",
    "\n",
    "Instantiate a Circle object that represents a circle with its center at (150, 100) and radius 75.\n",
    "\n",
    "Write a function named `point_in_circle` that takes a Circle and a Point and returns True if the Point lies in or on the boundary of the circle.\n",
    "\n",
    "Write a function named `rect_in_circle` that takes a Circle and a Rectangle and returns True if the Rectangle lies entirely in or on the boundary of the circle.\n",
    "\n",
    "Write a function named `rect_circle_overlap` that takes a Circle and a Rectangle and returns True if any of the corners of the Rectangle fall inside the circle.\n",
    "\n"
   ]
  },
  {
   "cell_type": "code",
   "execution_count": 1,
   "metadata": {
    "tags": []
   },
   "outputs": [],
   "source": [
    "# no need to modify this code\n",
    "class Point:\n",
    "    \"\"\"Represents a point in 2-D space.\n",
    "    attributes: x, y\n",
    "    \"\"\"\n",
    "    \n",
    "def print_point(p):\n",
    "    print('(%g, %g)' % (p.x, p.y))\n",
    "\n",
    "\n",
    "class Rectangle:\n",
    "    \"\"\"Represents a rectangle. \n",
    "    attributes: width, height, corner.\n",
    "    \"\"\""
   ]
  },
  {
   "cell_type": "code",
   "execution_count": 2,
   "metadata": {
    "tags": []
   },
   "outputs": [],
   "source": [
    "import math\n",
    "import copy\n",
    "\n",
    "class Circle:\n",
    "    \"\"\"represents a circle\n",
    "    attributes: center, radius\"\"\"\n",
    "\n",
    "circle = Circle()\n",
    "circle.center = Point()\n",
    "circle.center.x = 150\n",
    "circle.center.y = 100\n",
    "circle.radius = 75\n",
    "\n",
    "def point_in_circle(point, circle):\n",
    "    return math.sqrt((circle.center.x - point.x)**2 + (circle.center.y - point.y)**2) <= circle.radius\n",
    "\n",
    "def rect_in_circle(rectangle, circle):\n",
    "    # C D\n",
    "    # A B\n",
    "    cornerD = Point()\n",
    "    cornerD.x = rectangle.corner.x + rectangle.width\n",
    "    cornerD.y = rectangle.corner.y + rectangle.height\n",
    "    return point_in_circle(rectangle.corner, circle) and point_in_circle(cornerD, circle)\n",
    "    \n",
    "def rect_circle_overlap(rectangle, circle):\n",
    "    # C D\n",
    "    # A B\n",
    "    cornerA = rectangle.corner\n",
    "    cornerB = copy.deepcopy(cornerA)\n",
    "    cornerB.x += rectangle.width\n",
    "    cornerC = copy.deepcopy(cornerA)\n",
    "    cornerC.y += rectangle.height\n",
    "    cornerD = copy.deepcopy(cornerA)\n",
    "    cornerD.x += rectangle.width\n",
    "    cornerD.y += rectangle.height\n",
    "    return point_in_circle(cornerA, circle) or point_in_circle(cornerB, circle) or \\\n",
    "           point_in_circle(cornerC, circle) or point_in_circle(cornerD, circle)"
   ]
  },
  {
   "cell_type": "markdown",
   "metadata": {},
   "source": [
    "Create a test case.\n",
    "\n",
    "Create a Rectangle called box. It has a width of 100 and a height of 200. It's corner is the Point (50, 50).\n",
    "\n",
    "Print out the vars of box.\n",
    "\n",
    "Create a Circle. The center is located at the Point (150, 100). It has a radius of 75.\n",
    "\n",
    "+ Run the function to test if `box.corner` is in the `circle`.\n",
    "+ Run the function to test if `box` is in the `circle`.\n",
    "+ Run the function to test if `box` and `circle` overlap."
   ]
  },
  {
   "cell_type": "code",
   "execution_count": 3,
   "metadata": {
    "tags": []
   },
   "outputs": [
    {
     "name": "stdout",
     "output_type": "stream",
     "text": [
      "{'width': 100, 'height': 200, 'corner': <__main__.Point object at 0x000002487BCDD3D0>}\n"
     ]
    }
   ],
   "source": [
    "# your code\n",
    "box = Rectangle()\n",
    "box.width = 100\n",
    "box.height = 200\n",
    "box.corner = Point()\n",
    "box.corner.x = 50\n",
    "box.corner.y = 50\n",
    "print(vars(box))\n",
    "\n",
    "circle = Circle()\n",
    "circle.center = Point()\n",
    "circle.center.x = 150\n",
    "circle.center.y = 100\n",
    "circle.radius = 75"
   ]
  },
  {
   "cell_type": "code",
   "execution_count": 4,
   "metadata": {
    "tags": []
   },
   "outputs": [
    {
     "name": "stdout",
     "output_type": "stream",
     "text": [
      "False\n",
      "False\n",
      "True\n"
     ]
    }
   ],
   "source": [
    "print(point_in_circle(box.corner, circle))\n",
    "print(rect_in_circle(box, circle))\n",
    "print(rect_circle_overlap(box, circle))"
   ]
  },
  {
   "cell_type": "markdown",
   "metadata": {},
   "source": [
    "### Exercise 16.1\n",
    "\n",
    "Write a function called `mul_time` (multiply time) that takes a Time object and a number and returns a new Time object that contains the product of the original Time and the number."
   ]
  },
  {
   "cell_type": "code",
   "execution_count": 5,
   "metadata": {
    "tags": []
   },
   "outputs": [],
   "source": [
    "# code that defines Time class and some functions needed for 16.1\n",
    "# no need to modify\n",
    "class Time:\n",
    "    \"\"\"Represents the time of day.\n",
    "       \n",
    "    attributes: hour, minute, second\n",
    "    \"\"\"\n",
    "def print_time(t):\n",
    "    \"\"\"Prints a string representation of the time.\n",
    "\n",
    "    t: Time object\n",
    "    \"\"\"\n",
    "    print('%.2d:%.2d:%.2d' % (t.hour, t.minute, t.second))\n",
    "def int_to_time(seconds):\n",
    "    \"\"\"Makes a new Time object.\n",
    "\n",
    "    seconds: int seconds since midnight.\n",
    "    \"\"\"\n",
    "    time = Time()\n",
    "    minutes, time.second = divmod(seconds, 60)\n",
    "    time.hour, time.minute = divmod(minutes, 60)\n",
    "    return time\n",
    "def time_to_int(time):\n",
    "    \"\"\"Computes the number of seconds since midnight.\n",
    "\n",
    "    time: Time object.\n",
    "    \"\"\"\n",
    "    minutes = time.hour * 60 + time.minute\n",
    "    seconds = minutes * 60 + time.second\n",
    "    return seconds"
   ]
  },
  {
   "cell_type": "code",
   "execution_count": 6,
   "metadata": {
    "tags": []
   },
   "outputs": [],
   "source": [
    "def mul_time(time, number):\n",
    "    return int_to_time(time_to_int(time) * number)"
   ]
  },
  {
   "cell_type": "markdown",
   "metadata": {},
   "source": [
    "The following test case takes a race time and tries to calculate the running pace."
   ]
  },
  {
   "cell_type": "code",
   "execution_count": 7,
   "metadata": {
    "tags": []
   },
   "outputs": [
    {
     "name": "stdout",
     "output_type": "stream",
     "text": [
      "Half marathon time 01:34:05\n",
      "00:07:10\n"
     ]
    }
   ],
   "source": [
    "# test case:\n",
    "race_time = Time()\n",
    "race_time.hour = 1\n",
    "race_time.minute = 34\n",
    "race_time.second = 5\n",
    "\n",
    "print('Half marathon time', end=' ')\n",
    "print_time(race_time)\n",
    "\n",
    "distance = 13.1 # miles\n",
    "pace = mul_time(race_time, 1 / distance)\n",
    "print_time(pace)"
   ]
  },
  {
   "cell_type": "markdown",
   "metadata": {},
   "source": [
    "## Exercise 16.2.\n",
    "\n",
    "The `datetime` module provides time objects that are similar to the Time objects in this chapter, but they provide a rich set of methods and operators. Read the documentation at\n",
    "\n",
    "https://docs.python.org/3/library/datetime.html\n",
    "\n",
    "1. Use the datetime module and write a few lines that gets the current date and prints the day of the week."
   ]
  },
  {
   "cell_type": "code",
   "execution_count": 8,
   "metadata": {
    "tags": []
   },
   "outputs": [],
   "source": [
    "import datetime"
   ]
  },
  {
   "cell_type": "code",
   "execution_count": 9,
   "metadata": {
    "tags": []
   },
   "outputs": [
    {
     "name": "stdout",
     "output_type": "stream",
     "text": [
      "2021-05-19\n"
     ]
    }
   ],
   "source": [
    "# example usage\n",
    "new_date = datetime.date(2021, 5, 19)\n",
    "print(new_date)"
   ]
  },
  {
   "cell_type": "code",
   "execution_count": 10,
   "metadata": {},
   "outputs": [
    {
     "name": "stdout",
     "output_type": "stream",
     "text": [
      "2023-12-06\n",
      "Wednesday\n"
     ]
    }
   ],
   "source": [
    "now = datetime.date.today()\n",
    "print(now)\n",
    "\n",
    "weekdays = [\"Monday\", \"Tuesday\", \"Wednesday\", \"Thursday\", \"Friday\", \"Saturday\", \"Sunday\"]\n",
    "print(weekdays[now.weekday()])"
   ]
  },
  {
   "cell_type": "markdown",
   "metadata": {},
   "source": [
    "2. Write a function that takes a birthday as input and prints the user's age and the number of days, hours, minutes and seconds until their next birthday (the day starts at midnight)."
   ]
  },
  {
   "cell_type": "code",
   "execution_count": 11,
   "metadata": {},
   "outputs": [],
   "source": [
    "# print time until birthday\n",
    "def time_until_bday(bday):\n",
    "    now = datetime.datetime.now()\n",
    "    month, day, year = bday.split(\"/\")\n",
    "    \n",
    "    birthday_this_year = datetime.datetime(now.year, int(month), int(day))\n",
    "    birthday_next_year = datetime.datetime(now.year + 1, int(month), int(day))\n",
    "    birthday_passed = 1 if now < birthday_this_year else 0\n",
    "    \n",
    "    print(\"Age: {} years old.\".format(now.year - birthday_passed - int(year)))\n",
    "    \n",
    "    diff = birthday_next_year - now\n",
    "    diff_days_hours, diff_mins, diff_secs = str(diff).split(\":\")\n",
    "    diff_days, diff_hours = diff_days_hours.split(\",\")\n",
    "    \n",
    "    print(\"Next birthday in {}, {} hours, {} minutes, and {} seconds.\".format(diff_days, diff_hours[1:], diff_mins, diff_secs))"
   ]
  },
  {
   "cell_type": "code",
   "execution_count": 12,
   "metadata": {},
   "outputs": [],
   "source": [
    "birthdate = \"12/25/1999\" # month/day/year"
   ]
  },
  {
   "cell_type": "code",
   "execution_count": 13,
   "metadata": {
    "tags": []
   },
   "outputs": [
    {
     "name": "stdout",
     "output_type": "stream",
     "text": [
      "Age: 23 years old.\n",
      "Next birthday in 384 days, 8 hours, 51 minutes, and 02.269896 seconds.\n"
     ]
    }
   ],
   "source": [
    "time_until_bday(birthdate)"
   ]
  },
  {
   "cell_type": "code",
   "execution_count": 14,
   "metadata": {},
   "outputs": [],
   "source": [
    "birthdate2 = \"3/26/1972\""
   ]
  },
  {
   "cell_type": "code",
   "execution_count": 15,
   "metadata": {},
   "outputs": [
    {
     "name": "stdout",
     "output_type": "stream",
     "text": [
      "Age: 51 years old.\n",
      "Next birthday in 110 days, 8 hours, 51 minutes, and 02.258130 seconds.\n"
     ]
    }
   ],
   "source": [
    "# print time until birthday\n",
    "time_until_bday(birthdate2)"
   ]
  },
  {
   "cell_type": "markdown",
   "metadata": {},
   "source": [
    "3. For two people born on different days, there is a day when one is exactly twice as old as the other. That's their Double Day. Write a function that takes two birth dates and computes their Double Day. The function should also print the age of person1 in years, months, days as well as the age of person 2 in years, months, days."
   ]
  },
  {
   "cell_type": "code",
   "execution_count": 16,
   "metadata": {},
   "outputs": [],
   "source": [
    "def double_day(day1, day2):\n",
    "    m1, d1, y1 = day1.split(\"/\")\n",
    "    m2, d2, y2 = day2.split(\"/\")\n",
    "    p1 = datetime.date(int(y1), int(m1), int(d1))\n",
    "    p2 = datetime.date(int(y2), int(m2), int(d2))\n",
    "    \n",
    "    diff = abs(p1 - p2)\n",
    "    (younger, older) = (p1, p2) if p1 > p2 else (p2, p1)\n",
    "    double_day = younger + diff\n",
    "\n",
    "    dd_y1, dd_m1, dd_d1 = days_to_ymd(int(str(double_day - younger).split(\" \")[0]))\n",
    "    dd_y2, dd_m2, dd_d2 = days_to_ymd(int(str(double_day - older).split(\" \")[0]))\n",
    "\n",
    "    (person1, person2) = (day1, day2) if p1 > p2 else (day2, day1)\n",
    "    print(\"Double Day: {}\".format(double_day))\n",
    "    print(\"{}'s age is {} years, {} months, and {} days.\".format(person1, dd_y1, dd_m1, dd_d1))\n",
    "    print(\"{}'s age is {} years, {} months, and {} days.\".format(person2, dd_y2, dd_m2, dd_d2))"
   ]
  },
  {
   "cell_type": "code",
   "execution_count": 17,
   "metadata": {
    "tags": []
   },
   "outputs": [],
   "source": [
    "def days_to_ymd(days):\n",
    "    months, days = divmod(days, 30)\n",
    "    years, months = divmod(months, 12)\n",
    "    return years, months, days"
   ]
  },
  {
   "cell_type": "code",
   "execution_count": 18,
   "metadata": {},
   "outputs": [],
   "source": [
    "person1 = \"12/25/1999\"\n",
    "person2 = \"4/15/1970\""
   ]
  },
  {
   "cell_type": "code",
   "execution_count": 19,
   "metadata": {},
   "outputs": [
    {
     "name": "stdout",
     "output_type": "stream",
     "text": [
      "Double Day: 2029-09-04\n",
      "12/25/1999's age is 30 years, 1 months, and 16 days.\n",
      "4/15/1970's age is 60 years, 3 months, and 2 days.\n"
     ]
    }
   ],
   "source": [
    "double_day(person1, person2)"
   ]
  },
  {
   "cell_type": "code",
   "execution_count": 20,
   "metadata": {},
   "outputs": [
    {
     "name": "stdout",
     "output_type": "stream",
     "text": [
      "Double Day: 1997-11-16\n",
      "1/20/1985's age is 13 years, 0 months, and 3 days.\n",
      "3/26/1972's age is 26 years, 0 months, and 6 days.\n"
     ]
    }
   ],
   "source": [
    "# test case\n",
    "person1 = \"3/26/1972\"\n",
    "person2 = \"1/20/1985\"\n",
    "double_day(person1, person2)"
   ]
  },
  {
   "cell_type": "code",
   "execution_count": 21,
   "metadata": {},
   "outputs": [
    {
     "name": "stdout",
     "output_type": "stream",
     "text": [
      "Double Day: 2018-08-04\n",
      "3/23/2010's age is 8 years, 5 months, and 26 days.\n",
      "11/9/2001's age is 16 years, 11 months, and 22 days.\n"
     ]
    }
   ],
   "source": [
    "# test case\n",
    "person1 = \"11/9/2001\"\n",
    "person2 = \"3/23/2010\"\n",
    "double_day(person1, person2)"
   ]
  },
  {
   "cell_type": "markdown",
   "metadata": {},
   "source": [
    "## Exercise 17.1.\n",
    "\n",
    "I have included the code from chapter 17.\n",
    "\n",
    "Change the attributes of the `Time` class to be a single integer representing seconds since midnight. Then modify the methods (and the function int_to_time) to work with the new implementation.\n",
    "\n",
    "You should not have to modify the test code in the function `main()`. When you are done, the output should be the same as before."
   ]
  },
  {
   "cell_type": "code",
   "execution_count": 22,
   "metadata": {},
   "outputs": [],
   "source": [
    "# Leave this code unchanged\n",
    "class Time:\n",
    "    def __init__(self, hour=0, minute=0, second=0):\n",
    "        self.hour = hour\n",
    "        self.minute = minute\n",
    "        self.second = second\n",
    "\n",
    "    def __str__(self):\n",
    "        return '%.2d:%.2d:%.2d' % (self.hour, self.minute, self.second)\n",
    "\n",
    "    def print_time(self):\n",
    "        print(str(self))\n",
    "\n",
    "    def time_to_int(self):\n",
    "        minutes = self.hour * 60 + self.minute\n",
    "        seconds = minutes * 60 + self.second\n",
    "        return seconds\n",
    "\n",
    "    def is_after(self, other):\n",
    "        return self.time_to_int() > other.time_to_int()\n",
    "\n",
    "    def __add__(self, other):\n",
    "        if isinstance(other, Time):\n",
    "            return self.add_time(other)\n",
    "        else:\n",
    "            return self.increment(other)\n",
    "\n",
    "    def __radd__(self, other):\n",
    "        return self.__add__(other)\n",
    "\n",
    "    def add_time(self, other):\n",
    "        assert self.is_valid() and other.is_valid()\n",
    "        seconds = self.time_to_int() + other.time_to_int()\n",
    "        return int_to_time(seconds)\n",
    "\n",
    "    def increment(self, seconds):\n",
    "        seconds += self.time_to_int()\n",
    "        return int_to_time(seconds)\n",
    "\n",
    "    def is_valid(self):\n",
    "        if self.hour < 0 or self.minute < 0 or self.second < 0:\n",
    "            return False\n",
    "        if self.minute >= 60 or self.second >= 60:\n",
    "            return False\n",
    "        return True\n",
    "\n",
    "\n",
    "def int_to_time(seconds):\n",
    "    minutes, second = divmod(seconds, 60)\n",
    "    hour, minute = divmod(minutes, 60)\n",
    "    time = Time(hour, minute, second)\n",
    "    return time\n",
    "\n",
    "\n",
    "def main():\n",
    "    start = Time(9, 45, 00)\n",
    "    start.print_time()\n",
    "\n",
    "    end = start.increment(1337)\n",
    "    #end = start.increment(1337, 460)\n",
    "    end.print_time()\n",
    "\n",
    "    print('Is end after start?')\n",
    "    print(end.is_after(start))\n",
    "\n",
    "    print('Using __str__')\n",
    "    print(start, end)\n",
    "\n",
    "    start = Time(9, 45)\n",
    "    duration = Time(1, 35)\n",
    "    print(start + duration)\n",
    "    print(start + 1337)\n",
    "    print(1337 + start)\n",
    "\n",
    "    print('Example of polymorphism')\n",
    "    t1 = Time(7, 43)\n",
    "    t2 = Time(7, 41)\n",
    "    t3 = Time(7, 37)\n",
    "    total = sum([t1, t2, t3])\n",
    "    print(total)"
   ]
  },
  {
   "cell_type": "code",
   "execution_count": 23,
   "metadata": {},
   "outputs": [
    {
     "name": "stdout",
     "output_type": "stream",
     "text": [
      "09:45:00\n",
      "10:07:17\n",
      "Is end after start?\n",
      "True\n",
      "Using __str__\n",
      "09:45:00 10:07:17\n",
      "11:20:00\n",
      "10:07:17\n",
      "10:07:17\n",
      "Example of polymorphism\n",
      "23:01:00\n"
     ]
    }
   ],
   "source": [
    "# results of a few time tests. your later results should match these\n",
    "main()"
   ]
  },
  {
   "cell_type": "code",
   "execution_count": 24,
   "metadata": {},
   "outputs": [],
   "source": [
    "# modify this class\n",
    "# you can only have one attribute: self.second\n",
    "# the time is still initialized with hour, minute, second\n",
    "    \n",
    "class Time:\n",
    "    def __init__(self, hour=0, minute=0, second=0):\n",
    "        self.second = (hour * 3600) + (minute * 60) + second\n",
    "\n",
    "    def __str__(self):\n",
    "        total = self.second\n",
    "        hour = total // 3600\n",
    "        total %= 3600\n",
    "        minute = total // 60\n",
    "        total %= 60\n",
    "        second = total\n",
    "        return '%.2d:%.2d:%.2d' % (hour, minute, second)\n",
    "\n",
    "    def print_time(self):\n",
    "        print(str(self))\n",
    "\n",
    "    def time_to_int(self):\n",
    "        return self.second\n",
    "\n",
    "    def is_after(self, other):\n",
    "        return self.time_to_int() > other.time_to_int()\n",
    "\n",
    "    def __add__(self, other):\n",
    "        if isinstance(other, Time):\n",
    "            return self.add_time(other)\n",
    "        else:\n",
    "            return self.increment(other)\n",
    "\n",
    "    def __radd__(self, other):\n",
    "        return self.__add__(other)\n",
    "\n",
    "    def add_time(self, other):\n",
    "        assert self.is_valid() and other.is_valid()\n",
    "        seconds = self.time_to_int() + other.time_to_int()\n",
    "        return int_to_time(seconds)\n",
    "\n",
    "    def increment(self, seconds):\n",
    "        seconds += self.time_to_int()\n",
    "        return int_to_time(seconds)\n",
    "\n",
    "    def is_valid(self):\n",
    "        if self.second < 0:\n",
    "            return False\n",
    "        return True"
   ]
  },
  {
   "cell_type": "code",
   "execution_count": 25,
   "metadata": {
    "tags": []
   },
   "outputs": [
    {
     "name": "stdout",
     "output_type": "stream",
     "text": [
      "09:45:00\n",
      "10:07:17\n",
      "Is end after start?\n",
      "True\n",
      "Using __str__\n",
      "09:45:00 10:07:17\n",
      "11:20:00\n",
      "10:07:17\n",
      "10:07:17\n",
      "Example of polymorphism\n",
      "23:01:00\n"
     ]
    }
   ],
   "source": [
    "def main():\n",
    "    start = Time(9, 45, 00)\n",
    "    start.print_time()\n",
    "\n",
    "    end = start.increment(1337)\n",
    "    #end = start.increment(1337, 460)\n",
    "    end.print_time()\n",
    "\n",
    "    print('Is end after start?')\n",
    "    print(end.is_after(start))\n",
    "\n",
    "    print('Using __str__')\n",
    "    print(start, end)\n",
    "\n",
    "    start = Time(9, 45)\n",
    "    duration = Time(1, 35)\n",
    "    print(start + duration)\n",
    "    print(start + 1337)\n",
    "    print(1337 + start)\n",
    "\n",
    "    print('Example of polymorphism')\n",
    "    t1 = Time(7, 43)\n",
    "    t2 = Time(7, 41)\n",
    "    t3 = Time(7, 37)\n",
    "    total = sum([t1, t2, t3])\n",
    "    print(total)\n",
    "    \n",
    "main()"
   ]
  },
  {
   "cell_type": "markdown",
   "metadata": {},
   "source": [
    "## Exercise 17.2\n",
    "\n",
    "This exercise is a cautionary tale about one of the most common and difﬁcult to find errors in Python.\n",
    "\n",
    "We create a definition for a class named Kangaroo with the following methods:\n",
    "\n",
    "1. An __init__ method that initializes an attribute named pouch_contents to an empty list.\n",
    "2. A method named `put_in_pouch` that takes an object of any type and adds it to pouch_contents.\n",
    "3. A __str__ method that returns a string representation of the Kangaroo object and the contents of the pouch.\n",
    "\n",
    "Test your code by creating two Kangaroo objects, assigning them to variables named kanga and roo, and then adding roo to the contents of kanga's pouch.\n",
    "\n",
    "You don't actually have to write any code for this exercise. Instead, read through the included code and answer the questions."
   ]
  },
  {
   "cell_type": "code",
   "execution_count": 26,
   "metadata": {
    "tags": []
   },
   "outputs": [],
   "source": [
    "# `Badkangaroo.py`\n",
    "class Kangaroo:\n",
    "    \"\"\"A Kangaroo is a marsupial.\"\"\"\n",
    "    \n",
    "    def __init__(self, name, contents=[]):\n",
    "        \"\"\"Initialize the pouch contents.\n",
    "\n",
    "        name: string\n",
    "        contents: initial pouch contents.\n",
    "        \"\"\"\n",
    "        self.name = name\n",
    "        self.pouch_contents = contents\n",
    "\n",
    "    def __str__(self):\n",
    "        \"\"\"Return a string representation of this Kangaroo.\n",
    "        \"\"\"\n",
    "        t = [ self.name + ' has pouch contents:' ]\n",
    "        for obj in self.pouch_contents:\n",
    "            s = '    ' + object.__str__(obj)\n",
    "            t.append(s)\n",
    "        return '\\n'.join(t)\n",
    "\n",
    "    def put_in_pouch(self, item):\n",
    "        \"\"\"Adds a new item to the pouch contents.\n",
    "\n",
    "        item: object to be added\n",
    "        \"\"\"\n",
    "        self.pouch_contents.append(item)"
   ]
  },
  {
   "cell_type": "code",
   "execution_count": 27,
   "metadata": {
    "tags": []
   },
   "outputs": [],
   "source": [
    "kanga = Kangaroo('Kanga')\n",
    "roo = Kangaroo('Roo')\n",
    "kanga.put_in_pouch('wallet')\n",
    "kanga.put_in_pouch('car keys')\n",
    "roo.put_in_pouch('candy')\n",
    "kanga.put_in_pouch(roo)"
   ]
  },
  {
   "cell_type": "code",
   "execution_count": 28,
   "metadata": {
    "tags": []
   },
   "outputs": [
    {
     "name": "stdout",
     "output_type": "stream",
     "text": [
      "Kanga has pouch contents:\n",
      "    'wallet'\n",
      "    'car keys'\n",
      "    'candy'\n",
      "    <__main__.Kangaroo object at 0x000002487BDB9750>\n"
     ]
    }
   ],
   "source": [
    "print(kanga)"
   ]
  },
  {
   "cell_type": "code",
   "execution_count": 29,
   "metadata": {
    "tags": []
   },
   "outputs": [
    {
     "name": "stdout",
     "output_type": "stream",
     "text": [
      "Roo has pouch contents:\n",
      "    'wallet'\n",
      "    'car keys'\n",
      "    'candy'\n",
      "    <__main__.Kangaroo object at 0x000002487BDB9750>\n"
     ]
    }
   ],
   "source": [
    "print(roo)"
   ]
  },
  {
   "cell_type": "markdown",
   "metadata": {},
   "source": [
    "**Question: Why does roo and kanga have the same contents?**"
   ]
  },
  {
   "cell_type": "markdown",
   "metadata": {},
   "source": [
    "**Answer:** Lists are object pointers that *reference* objects in memory. Coupled with the fact that default values are only evaluated once, any Kangaroo instance created with default values will reference the same contents list. Since they reference the same contents list, any changes or modifications to the contents list through `roo` and `kanga` will be reflected across all Kangaroo instances created with the default values sharing that same contents list."
   ]
  },
  {
   "cell_type": "code",
   "execution_count": 30,
   "metadata": {},
   "outputs": [],
   "source": [
    "# `GoodKangaroo.py`\n",
    "class Kangaroo:\n",
    "    \"\"\"A Kangaroo is a marsupial.\"\"\"\n",
    "    \n",
    "    def __init__(self, name, contents=[]):\n",
    "        \"\"\"Initialize the pouch contents.\n",
    "\n",
    "        name: string\n",
    "        contents: initial pouch contents.\n",
    "        \"\"\"\n",
    "        # The problem is the default value for contents.\n",
    "        # Default values get evaluated ONCE, when the function\n",
    "        # is defined; they don't get evaluated again when the\n",
    "        # function is called.\n",
    "\n",
    "        # In this case that means that when __init__ is defined,\n",
    "        # [] gets evaluated and contents gets a reference to\n",
    "        # an empty list.\n",
    "\n",
    "        # After that, every Kangaroo that gets the default\n",
    "        # value gets a reference to THE SAME list.  If any\n",
    "        # Kangaroo modifies this shared list, they all see\n",
    "        # the change.\n",
    "\n",
    "        # The next version of __init__ shows an idiomatic way\n",
    "        # to avoid this problem.\n",
    "        self.name = name\n",
    "        self.pouch_contents = contents\n",
    "\n",
    "    def __init__(self, name, contents=None):\n",
    "        \"\"\"Initialize the pouch contents.\n",
    "\n",
    "        name: string\n",
    "        contents: initial pouch contents.\n",
    "        \"\"\"\n",
    "        # In this version, the default value is None.  When\n",
    "        # __init__ runs, it checks the value of contents and,\n",
    "        # if necessary, creates a new empty list.  That way,\n",
    "        # every Kangaroo that gets the default value gets a\n",
    "        # reference to a different list.\n",
    "\n",
    "        # As a general rule, you should avoid using a mutable\n",
    "        # object as a default value, unless you really know\n",
    "        # what you are doing.\n",
    "        self.name = name\n",
    "        if contents == None:\n",
    "            contents = []\n",
    "        self.pouch_contents = contents\n",
    "\n",
    "    def __str__(self):\n",
    "        \"\"\"Return a string representaion of this Kangaroo.\n",
    "        \"\"\"\n",
    "        t = [ self.name + ' has pouch contents:' ]\n",
    "        for obj in self.pouch_contents:\n",
    "            s = '    ' + object.__str__(obj)\n",
    "            t.append(s)\n",
    "        return '\\n'.join(t)\n",
    "\n",
    "    def put_in_pouch(self, item):\n",
    "        \"\"\"Adds a new item to the pouch contents.\n",
    "\n",
    "        item: object to be added\n",
    "        \"\"\"\n",
    "        self.pouch_contents.append(item)"
   ]
  },
  {
   "cell_type": "code",
   "execution_count": 31,
   "metadata": {},
   "outputs": [],
   "source": [
    "kanga = Kangaroo('Kanga')\n",
    "roo = Kangaroo('Roo')\n",
    "kanga.put_in_pouch('wallet')\n",
    "kanga.put_in_pouch('car keys')\n",
    "roo.put_in_pouch('candy')\n",
    "kanga.put_in_pouch(roo)"
   ]
  },
  {
   "cell_type": "code",
   "execution_count": 32,
   "metadata": {},
   "outputs": [
    {
     "name": "stdout",
     "output_type": "stream",
     "text": [
      "Kanga has pouch contents:\n",
      "    'wallet'\n",
      "    'car keys'\n",
      "    <__main__.Kangaroo object at 0x000002487BD2BDD0>\n"
     ]
    }
   ],
   "source": [
    "print(kanga)"
   ]
  },
  {
   "cell_type": "code",
   "execution_count": 33,
   "metadata": {},
   "outputs": [
    {
     "name": "stdout",
     "output_type": "stream",
     "text": [
      "Roo has pouch contents:\n",
      "    'candy'\n"
     ]
    }
   ],
   "source": [
    "print(roo)"
   ]
  },
  {
   "cell_type": "markdown",
   "metadata": {},
   "source": [
    "**Question: How does the `goodkangaroo` version fix the issue?**"
   ]
  },
  {
   "cell_type": "markdown",
   "metadata": {},
   "source": [
    "**Answer:** The `goodkangaroo` version fixes the issue by initially assigning contents to `None` as a placeholder which is used in a later comparison to check if arguments were supplied to contents. If no arguments were supplied, contents would be assigned our initial intended default value - an empty list. Since the body of a constructor is evaluated with each and every call, each Kangaroo instance created with default values will have their own reference to a new contents list."
   ]
  },
  {
   "cell_type": "markdown",
   "metadata": {},
   "source": [
    "## Exercise 18.3 (the hard one)\n",
    "\n",
    "The following are the possible hands in poker, in increasing order of value and decreasing order of probability:\n",
    "\n",
    "+ pair: two cards with the same rank\n",
    "+ two pair: two pairs of cards with the same rank\n",
    "+ three of a kind: three cards with the same rank\n",
    "+ straight: five cards with ranks in sequence (aces can be high or low, so Ace-2-3-4-5 is a straight and so is 10-Jack-Queen-King-Ace, but Queen-King-Ace-2-3 is not.)\n",
    "+ flush: five cards with the same suit\n",
    "+ full house: three cards with one rank, two cards with another\n",
    "+ four of a kind: four cards with the same rank\n",
    "+ straight ﬂush: five cards in sequence (as deﬁned above) and with the same suit\n",
    "\n",
    "The goal of these exercises is to estimate the probability of drawing these various hands."
   ]
  },
  {
   "cell_type": "code",
   "execution_count": 34,
   "metadata": {},
   "outputs": [],
   "source": [
    "# Do not change this code block\n",
    "## A complete version of the Card, Deck and Hand classes \n",
    "## in chapter 18.\n",
    "\n",
    "import random\n",
    "\n",
    "class Card:\n",
    "    \"\"\"Represents a standard playing card.\n",
    "    \n",
    "    Attributes:\n",
    "      suit: integer 0-3\n",
    "      rank: integer 1-13\n",
    "    \"\"\"\n",
    "\n",
    "    suit_names = [\"Clubs\", \"Diamonds\", \"Hearts\", \"Spades\"]\n",
    "    rank_names = [None, \"Ace\", \"2\", \"3\", \"4\", \"5\", \"6\", \"7\", \n",
    "              \"8\", \"9\", \"10\", \"Jack\", \"Queen\", \"King\"]\n",
    "\n",
    "    def __init__(self, suit=0, rank=2):\n",
    "        self.suit = suit\n",
    "        self.rank = rank\n",
    "\n",
    "    def __str__(self):\n",
    "        \"\"\"Returns a human-readable string representation.\"\"\"\n",
    "        return '%s of %s' % (Card.rank_names[self.rank],\n",
    "                             Card.suit_names[self.suit])\n",
    "\n",
    "    def __eq__(self, other):\n",
    "        \"\"\"Checks whether self and other have the same rank and suit.\n",
    "\n",
    "        returns: boolean\n",
    "        \"\"\"\n",
    "        return self.suit == other.suit and self.rank == other.rank\n",
    "\n",
    "    def __lt__(self, other):\n",
    "        \"\"\"Compares this card to other, first by suit, then rank.\n",
    "\n",
    "        returns: boolean\n",
    "        \"\"\"\n",
    "        t1 = self.suit, self.rank\n",
    "        t2 = other.suit, other.rank\n",
    "        return t1 < t2\n",
    "\n",
    "\n",
    "class Deck:\n",
    "    def __init__(self):\n",
    "        self.cards = []\n",
    "        for suit in range(4):\n",
    "            for rank in range(1,14):\n",
    "                card = Card(suit, rank)\n",
    "                self.cards.append(card)\n",
    "    def __str__(self):\n",
    "        res = []\n",
    "        for card in self.cards:\n",
    "            res.append(str(card))\n",
    "        return '\\n'.join(res)\n",
    "    \n",
    "    def __len__(self):\n",
    "        return len(self.cards)\n",
    "    \n",
    "    def __getitem__(self, position):\n",
    "        return self.cards[position]\n",
    "    \n",
    "    def __setitem__(self, key, value):\n",
    "        self.cards[key] = value\n",
    "    \n",
    "    def shuffle(self):\n",
    "        random.shuffle(self.cards)\n",
    "        \n",
    "    def pop_card(self):\n",
    "        return self.cards.pop()\n",
    "    \n",
    "    def add_card(self, card):\n",
    "        self.cards.append(card)\n",
    "    \n",
    "    def sort(self):\n",
    "         self.cards.sort()\n",
    "        \n",
    "    def move_cards(self, hand, num):\n",
    "        for i in range(num):\n",
    "            hand.add_card(self.pop_card())\n",
    "\n",
    "\n",
    "class Hand(Deck):\n",
    "    \"\"\"Represents a hand of playing cards.\"\"\"\n",
    "    \n",
    "    def __init__(self, label=''):\n",
    "        self.cards = []\n",
    "        self.label = label\n",
    "\n",
    "\n",
    "def find_defining_class(obj, method_name):\n",
    "    \"\"\"Finds and returns the class object that will provide \n",
    "    the definition of method_name (as a string) if it is\n",
    "    invoked on obj.\n",
    "\n",
    "    obj: any python object\n",
    "    method_name: string method name\n",
    "    \"\"\"\n",
    "    for ty in type(obj).mro():\n",
    "        if method_name in ty.__dict__:\n",
    "            return ty\n",
    "    return None"
   ]
  },
  {
   "cell_type": "code",
   "execution_count": 35,
   "metadata": {},
   "outputs": [],
   "source": [
    "# Do not change this code block\n",
    "## PokerHand.py : An incomplete implementation of a class that represents a poker hand, and\n",
    "## some code that tests it. The current definition of has_flush may or may not be adequate\n",
    "## for the final solution.\n",
    "class PokerHand(Hand):\n",
    "    \"\"\"Represents a poker hand.\"\"\"\n",
    "    \n",
    "    # all_labels is a list of all the labels in order from highest rank\n",
    "    # to lowest rank\n",
    "    all_labels = ['straightflush', 'fourkind', 'fullhouse', 'flush',\n",
    "                  'straight', 'threekind', 'twopair', 'pair', 'highcard']\n",
    "\n",
    "    def suit_hist(self):\n",
    "        \"\"\"Builds a histogram of the suits that appear in the hand.\n",
    "\n",
    "        Stores the result in attribute suits.\n",
    "        \"\"\"\n",
    "        self.suits = {}\n",
    "        for card in self.cards:\n",
    "            self.suits[card.suit] = self.suits.get(card.suit, 0) + 1\n",
    "\n",
    "    def has_flush(self):\n",
    "        \"\"\"Returns True if the hand has a flush, False otherwise.\n",
    "      \n",
    "        Note that this works correctly for hands with more than 5 cards.\n",
    "        \"\"\"\n",
    "        self.suit_hist()\n",
    "        for val in self.suits.values():\n",
    "            if val >= 5:\n",
    "                return True\n",
    "        return False"
   ]
  },
  {
   "cell_type": "markdown",
   "metadata": {},
   "source": [
    "If you run the following cell, it deals two 7-card poker hands and checks to see if any of them contains a flush. Read this code carefully before you go on."
   ]
  },
  {
   "cell_type": "code",
   "execution_count": 36,
   "metadata": {},
   "outputs": [
    {
     "name": "stdout",
     "output_type": "stream",
     "text": [
      "6 of Clubs\n",
      "9 of Clubs\n",
      "Ace of Diamonds\n",
      "5 of Diamonds\n",
      "8 of Diamonds\n",
      "Ace of Spades\n",
      "7 of Spades\n",
      "False\n",
      "\n",
      "3 of Clubs\n",
      "10 of Clubs\n",
      "Jack of Clubs\n",
      "3 of Diamonds\n",
      "Jack of Diamonds\n",
      "Ace of Hearts\n",
      "5 of Hearts\n",
      "False\n",
      "\n"
     ]
    }
   ],
   "source": [
    "# no need to change this code block\n",
    "# make a deck\n",
    "deck = Deck()\n",
    "deck.shuffle()\n",
    "\n",
    "# deal the cards and classify the hands\n",
    "for i in range(2):\n",
    "    hand = PokerHand()\n",
    "    deck.move_cards(hand, 7)\n",
    "    hand.sort()\n",
    "    print(hand)\n",
    "    print(hand.has_flush())\n",
    "    print('')"
   ]
  },
  {
   "cell_type": "code",
   "execution_count": 37,
   "metadata": {},
   "outputs": [
    {
     "name": "stdout",
     "output_type": "stream",
     "text": [
      "7 of Clubs\n",
      "Ace of Diamonds\n",
      "3 of Diamonds\n",
      "6 of Diamonds\n",
      "Queen of Diamonds\n",
      "King of Diamonds\n",
      "3 of Hearts\n",
      "True\n"
     ]
    }
   ],
   "source": [
    "# no need to change this code block\n",
    "# This code chunk creates a hand, \n",
    "# adds seven cards to it, 5 of which are diamonds\n",
    "# it checks to see if a flush exists and returns True\n",
    "hand = PokerHand()\n",
    "hand.add_card(Card(1,1))\n",
    "hand.add_card(Card(1,3))\n",
    "hand.add_card(Card(1,13))\n",
    "hand.add_card(Card(1,12))\n",
    "hand.add_card(Card(1,6))\n",
    "hand.add_card(Card(2,3))\n",
    "hand.add_card(Card(0,7))\n",
    "hand.sort()\n",
    "print(hand)\n",
    "print(hand.has_flush())"
   ]
  },
  {
   "cell_type": "markdown",
   "metadata": {},
   "source": [
    "3. Add methods to `class PokerHand` named `has_pair`, `has_twopair`, etc. that return True or False according to whether or not the hand meets the relevant criteria. Your code should work correctly for \"hands\" that contain any number of cards (although 5 and 7 are the most common sizes).\n",
    "\n",
    "4. Write a method named `classify` that figures out the classifications for a hand and labels it accordingly. The solution should only classify the hand that is most valuable.\n",
    "\n",
    "For example, a 7-card hand might contain sets of three of a kind (e.g, A, A, A, J, J, J, 3). This hand has three of a kind. `has_threekind` should return True. `has_twopair` and `has_pair` will also return True. However, the most valuable poker hand that can be created with these cards is a full house (three of a kind and pair: A, A, A, J, J). The classify method will return the label \"fullhouse\".\n",
    "\n",
    "Clarifications:\n",
    "\n",
    "- The label \"highcard\" should only be used for hands that do not have a pair or any higher possible classification.\n",
    "- Ace can count as both the low and high in a straight. e.g. A-2-3-4-5 is a straight. 10-J-Q-K-A is also a straight\n",
    "\n",
    "Within `PokerHand`, the method `suit_hist` has been created as a helper function. You may create other helper functions as you see fit."
   ]
  },
  {
   "cell_type": "code",
   "execution_count": 38,
   "metadata": {},
   "outputs": [],
   "source": [
    "# Your work:\n",
    "# Modify the code in this code chunk\n",
    "class PokerHand(Hand):\n",
    "    \"\"\"Represents a poker hand.\"\"\"\n",
    "\n",
    "    # all_labels is a list of all the labels in order from highest rank\n",
    "    # to lowest rank\n",
    "    all_labels = ['straightflush', 'fourkind', 'fullhouse', 'flush',\n",
    "                  'straight', 'threekind', 'twopair', 'pair', 'highcard']\n",
    "    \n",
    "    def suit_hist(self):\n",
    "        \"\"\"Builds a histogram of the suits that appear in the hand.\n",
    "\n",
    "        Stores the result in attribute suits.\n",
    "        \"\"\"\n",
    "        self.suits = {}\n",
    "        for card in self.cards:\n",
    "            self.suits[card.suit] = self.suits.get(card.suit, 0) + 1\n",
    "    def rank_hist(self):\n",
    "        \"\"\"Builds a histogram of the ranks that appear in the hand.\n",
    "        \n",
    "        Stores the result in attribute ranks.\n",
    "        \"\"\"\n",
    "        self.ranks = {}\n",
    "        for card in self.cards:\n",
    "            self.ranks[card.rank] = self.ranks.get(card.rank, 0) + 1\n",
    "    def has_straightflush(self):\n",
    "        if len(self.cards) < 5:\n",
    "            return False\n",
    "        self.combo = {}\n",
    "        for card in self.cards:\n",
    "            if card.suit not in self.combo:\n",
    "                hand = PokerHand()\n",
    "                hand.add_card(card)\n",
    "            else:\n",
    "                hand = self.combo.get(card.suit)\n",
    "                hand.add_card(card)\n",
    "            self.combo[card.suit] = hand\n",
    "        for values in self.combo.values():\n",
    "            if len(values) >= 5:\n",
    "                return values.has_straight()\n",
    "        return False\n",
    "    def has_fourkind(self):\n",
    "        self.rank_hist()\n",
    "        for value in self.ranks.values():\n",
    "            if value >= 4:\n",
    "                return True\n",
    "        return False\n",
    "    def has_fullhouse(self):\n",
    "        self.rank_hist()\n",
    "        two = False\n",
    "        three = False\n",
    "        for value in sorted(self.ranks.values()):\n",
    "            if value >= 3 and not three:\n",
    "                three = True\n",
    "                continue\n",
    "            if value >= 2 and not two:\n",
    "                two = True\n",
    "        return two and three\n",
    "    def has_flush(self):\n",
    "        self.suit_hist()\n",
    "        for val in self.suits.values():\n",
    "            if val >= 5:\n",
    "                return True\n",
    "        return False\n",
    "    def has_straight(self):\n",
    "        self.rank_hist()\n",
    "        if len(self.cards) < 5:\n",
    "            return False\n",
    "        self.ace = True if self.ranks.get(1, 0) else False\n",
    "        sorted_ranks = sorted(set(self.ranks.keys()))\n",
    "        if len(sorted_ranks) < 5:\n",
    "            return False\n",
    "        if sorted_ranks[-1] - sorted_ranks[0] == 4:\n",
    "            return True\n",
    "        if sorted_ranks[-4:] == [10, 11, 12, 13] and self.ace:\n",
    "            return True\n",
    "        for pos in range(len(sorted_ranks[:-5])):\n",
    "            if sorted_ranks[pos + 4] - sorted_ranks[pos] == 4:\n",
    "                return True\n",
    "        return False\n",
    "    def has_threekind(self):\n",
    "        self.rank_hist()\n",
    "        for value in self.ranks.values():\n",
    "            if value >= 3:\n",
    "                return True\n",
    "        return False        \n",
    "    def has_twopair(self):\n",
    "        self.rank_hist()\n",
    "        pairs = 0\n",
    "        for value in self.ranks.values():\n",
    "            if value >= 4:\n",
    "                return True\n",
    "            if value >= 2:\n",
    "                pairs += 1\n",
    "            if pairs == 2:\n",
    "                return True\n",
    "        return False\n",
    "    def has_pair(self):\n",
    "        self.rank_hist()\n",
    "        for value in self.ranks.values():\n",
    "            if value >= 2:\n",
    "                return True\n",
    "        return False\n",
    "\n",
    "    def classify(self):\n",
    "        if self.has_straightflush():\n",
    "            self.label = PokerHand.all_labels[0]\n",
    "        elif self.has_fourkind():\n",
    "            self.label = PokerHand.all_labels[1]\n",
    "        elif self.has_fullhouse():\n",
    "            self.label = PokerHand.all_labels[2]\n",
    "        elif self.has_flush():\n",
    "            self.label = PokerHand.all_labels[3]\n",
    "        elif self.has_straight():\n",
    "            self.label = PokerHand.all_labels[4]\n",
    "        elif self.has_threekind():\n",
    "            self.label = PokerHand.all_labels[5]\n",
    "        elif self.has_twopair():\n",
    "            self.label = PokerHand.all_labels[6]\n",
    "        elif self.has_pair():\n",
    "            self.label = PokerHand.all_labels[7]\n",
    "        else:\n",
    "            self.label = PokerHand.all_labels[8]"
   ]
  },
  {
   "cell_type": "markdown",
   "metadata": {},
   "source": [
    "### Test case: full house"
   ]
  },
  {
   "cell_type": "code",
   "execution_count": 39,
   "metadata": {},
   "outputs": [
    {
     "name": "stdout",
     "output_type": "stream",
     "text": [
      "Ace of Clubs\n",
      "Ace of Diamonds\n",
      "Ace of Hearts\n",
      "Jack of Clubs\n",
      "Jack of Diamonds\n",
      "Jack of Hearts\n",
      "3 of Clubs\n",
      "fullhouse\n"
     ]
    }
   ],
   "source": [
    "# test case; do not modify\n",
    "hand = PokerHand()\n",
    "hand.add_card(Card(0,1))\n",
    "hand.add_card(Card(1,1))\n",
    "hand.add_card(Card(2,1))\n",
    "hand.add_card(Card(0,11))\n",
    "hand.add_card(Card(1,11))\n",
    "hand.add_card(Card(2,11))\n",
    "hand.add_card(Card(0,3))\n",
    "hand.classify()\n",
    "print(hand)\n",
    "print(hand.label) # full house"
   ]
  },
  {
   "cell_type": "code",
   "execution_count": 40,
   "metadata": {},
   "outputs": [
    {
     "data": {
      "text/plain": [
       "True"
      ]
     },
     "execution_count": 40,
     "metadata": {},
     "output_type": "execute_result"
    }
   ],
   "source": [
    "# you may add your own code chunks to troubleshoot your hand methods\n",
    "hand.has_pair()"
   ]
  },
  {
   "cell_type": "markdown",
   "metadata": {},
   "source": [
    "### Test case: straight flush"
   ]
  },
  {
   "cell_type": "code",
   "execution_count": 41,
   "metadata": {},
   "outputs": [
    {
     "name": "stdout",
     "output_type": "stream",
     "text": [
      "Ace of Clubs\n",
      "2 of Clubs\n",
      "3 of Clubs\n",
      "4 of Clubs\n",
      "5 of Clubs\n",
      "5 of Diamonds\n",
      "5 of Hearts\n",
      "straightflush\n"
     ]
    }
   ],
   "source": [
    "# test case; do not modify\n",
    "hand = PokerHand()\n",
    "hand.add_card(Card(0,1))\n",
    "hand.add_card(Card(0,2))\n",
    "hand.add_card(Card(0,3))\n",
    "hand.add_card(Card(0,4))\n",
    "hand.add_card(Card(0,5))\n",
    "hand.add_card(Card(1,5))\n",
    "hand.add_card(Card(2,5))\n",
    "hand.classify()\n",
    "print(hand)\n",
    "print(hand.label) # straight flush"
   ]
  },
  {
   "cell_type": "code",
   "execution_count": 42,
   "metadata": {},
   "outputs": [
    {
     "name": "stdout",
     "output_type": "stream",
     "text": [
      "Ace of Clubs\n",
      "King of Clubs\n",
      "Queen of Clubs\n",
      "Jack of Clubs\n",
      "10 of Clubs\n",
      "Jack of Diamonds\n",
      "Queen of Hearts\n",
      "straightflush\n"
     ]
    }
   ],
   "source": [
    "# test case; do not modify\n",
    "hand = PokerHand()\n",
    "hand.add_card(Card(0,1))\n",
    "hand.add_card(Card(0,13))\n",
    "hand.add_card(Card(0,12))\n",
    "hand.add_card(Card(0,11))\n",
    "hand.add_card(Card(0,10))\n",
    "hand.add_card(Card(1,11))\n",
    "hand.add_card(Card(2,12))\n",
    "hand.classify()\n",
    "print(hand)\n",
    "print(hand.label) # straight flush"
   ]
  },
  {
   "cell_type": "markdown",
   "metadata": {},
   "source": [
    "### Test case: straight"
   ]
  },
  {
   "cell_type": "code",
   "execution_count": 43,
   "metadata": {},
   "outputs": [
    {
     "name": "stdout",
     "output_type": "stream",
     "text": [
      "2 of Clubs\n",
      "3 of Clubs\n",
      "4 of Diamonds\n",
      "5 of Hearts\n",
      "2 of Diamonds\n",
      "6 of Spades\n",
      "6 of Hearts\n",
      "straight\n"
     ]
    }
   ],
   "source": [
    "# test case; do not modify\n",
    "hand = PokerHand()\n",
    "hand.add_card(Card(0,2))\n",
    "hand.add_card(Card(0,3))\n",
    "hand.add_card(Card(1,4))\n",
    "hand.add_card(Card(2,5))\n",
    "hand.add_card(Card(1,2))\n",
    "hand.add_card(Card(3,6))\n",
    "hand.add_card(Card(2,6))\n",
    "hand.classify()\n",
    "print(hand)\n",
    "print(hand.label) # straight"
   ]
  },
  {
   "cell_type": "markdown",
   "metadata": {},
   "source": [
    "### Test case: straight"
   ]
  },
  {
   "cell_type": "code",
   "execution_count": 44,
   "metadata": {},
   "outputs": [
    {
     "name": "stdout",
     "output_type": "stream",
     "text": [
      "2 of Clubs\n",
      "3 of Clubs\n",
      "5 of Hearts\n",
      "10 of Clubs\n",
      "10 of Diamonds\n",
      "4 of Diamonds\n",
      "6 of Clubs\n",
      "straight\n"
     ]
    }
   ],
   "source": [
    "# test case; do not modify\n",
    "hand = PokerHand()\n",
    "hand.add_card(Card(0,2))\n",
    "hand.add_card(Card(0,3))\n",
    "hand.add_card(Card(2,5))\n",
    "hand.add_card(Card(0,10))\n",
    "hand.add_card(Card(1,10))\n",
    "hand.add_card(Card(1,4))\n",
    "hand.add_card(Card(0,6))\n",
    "hand.classify()\n",
    "print(hand)\n",
    "print(hand.label) # straight"
   ]
  },
  {
   "cell_type": "markdown",
   "metadata": {},
   "source": [
    "### Test case: flush (contains a straight and a flush, but is not straight flush)"
   ]
  },
  {
   "cell_type": "code",
   "execution_count": 45,
   "metadata": {},
   "outputs": [
    {
     "name": "stdout",
     "output_type": "stream",
     "text": [
      "2 of Clubs\n",
      "3 of Clubs\n",
      "4 of Clubs\n",
      "5 of Clubs\n",
      "6 of Diamonds\n",
      "7 of Diamonds\n",
      "8 of Clubs\n",
      "flush\n"
     ]
    }
   ],
   "source": [
    "# test case; do not modify\n",
    "hand = PokerHand()\n",
    "hand.add_card(Card(0,2))\n",
    "hand.add_card(Card(0,3))\n",
    "hand.add_card(Card(0,4))\n",
    "hand.add_card(Card(0,5))\n",
    "hand.add_card(Card(1,6))\n",
    "hand.add_card(Card(1,7))\n",
    "hand.add_card(Card(0,8))\n",
    "hand.classify()\n",
    "print(hand)\n",
    "print(hand.label) # flush"
   ]
  },
  {
   "cell_type": "markdown",
   "metadata": {},
   "source": [
    "### Test case: two pair"
   ]
  },
  {
   "cell_type": "code",
   "execution_count": 46,
   "metadata": {},
   "outputs": [
    {
     "name": "stdout",
     "output_type": "stream",
     "text": [
      "2 of Clubs\n",
      "2 of Diamonds\n",
      "4 of Clubs\n",
      "4 of Diamonds\n",
      "5 of Clubs\n",
      "5 of Diamonds\n",
      "6 of Clubs\n",
      "twopair\n"
     ]
    }
   ],
   "source": [
    "# test case; do not modify\n",
    "hand = PokerHand()\n",
    "hand.add_card(Card(0,2))\n",
    "hand.add_card(Card(1,2))\n",
    "hand.add_card(Card(0,4))\n",
    "hand.add_card(Card(1,4))\n",
    "hand.add_card(Card(0,5))\n",
    "hand.add_card(Card(1,5))\n",
    "hand.add_card(Card(0,6))\n",
    "hand.classify()\n",
    "print(hand)\n",
    "print(hand.label) # twopair"
   ]
  },
  {
   "cell_type": "markdown",
   "metadata": {},
   "source": [
    "5. When you are convinced that your classification methods are working, the next step is to estimate the probabilities of the various hands.\n",
    "\n",
    "Use the following functions that will shuffle a deck of cards, divides it into hands, classifies the hands, and counts the number of times various classifications appear."
   ]
  },
  {
   "cell_type": "code",
   "execution_count": 47,
   "metadata": {},
   "outputs": [],
   "source": [
    "# no need to change this code block\n",
    "class PokerDeck(Deck):\n",
    "    \"\"\"Represents a deck of cards that can deal poker hands.\"\"\"\n",
    "\n",
    "    def deal_hands(self, num_cards=7, num_hands=7):\n",
    "        \"\"\"Deals hands from the deck and returns Hands. The hands are classified before they are returned.\n",
    "        num_cards: cards per hand\n",
    "        num_hands: number of hands\n",
    "\n",
    "        returns: list of Hands\n",
    "        \"\"\"\n",
    "        hands = []\n",
    "        for i in range(num_hands):        \n",
    "            hand = PokerHand()\n",
    "            self.move_cards(hand, num_cards)\n",
    "            hand.classify()\n",
    "            hands.append(hand)\n",
    "        return hands"
   ]
  },
  {
   "cell_type": "code",
   "execution_count": 48,
   "metadata": {},
   "outputs": [],
   "source": [
    "# no need to change this code block\n",
    "class Hist(dict):\n",
    "    \"\"\"A map from each item (x) to its frequency.\"\"\"\n",
    "\n",
    "    def __init__(self, seq=[]):\n",
    "        \"Creates a new histogram starting with the items in seq.\"\n",
    "        for x in seq:\n",
    "            self.count(x)\n",
    "\n",
    "    def count(self, x, f=1):\n",
    "        \"Increments (or decrements) the counter associated with item x.\"\n",
    "        self[x] = self.get(x, 0) + f\n",
    "        if self[x] == 0:\n",
    "            del self[x]"
   ]
  },
  {
   "cell_type": "code",
   "execution_count": 49,
   "metadata": {},
   "outputs": [],
   "source": [
    "# test code. no need to modify\n",
    "def main():\n",
    "    # the label histogram: map from label to number of occurances\n",
    "    labelhist = Hist()\n",
    "\n",
    "    # loop n times, dealing 5 hands per iteration, 7 cards each\n",
    "    n = 20000\n",
    "    for i in range(n):\n",
    "        if i % 1000 == 0:\n",
    "            print(i)\n",
    "            \n",
    "        deck = PokerDeck()\n",
    "        deck.shuffle()\n",
    "\n",
    "        hands = deck.deal_hands(7, 5)\n",
    "        for hand in hands:\n",
    "            labelhist.count(hand.label)\n",
    "            \n",
    "    # print the results\n",
    "    total = 5.0 * n\n",
    "    print(total, 'hands dealt:')\n",
    "\n",
    "    for label in PokerHand.all_labels:\n",
    "        freq = labelhist.get(label, 0)\n",
    "        p = 100 * freq / total\n",
    "        if freq == 0: \n",
    "            odds = float('inf')\n",
    "        else:\n",
    "            odds = (total - freq) / freq\n",
    "        print('{:} happens with probability {:.3f}%; odds against: {:.2f} : 1'.format(label, p, odds))\n"
   ]
  },
  {
   "cell_type": "code",
   "execution_count": 50,
   "metadata": {},
   "outputs": [
    {
     "name": "stdout",
     "output_type": "stream",
     "text": [
      "0\n",
      "1000\n",
      "2000\n",
      "3000\n",
      "4000\n",
      "5000\n",
      "6000\n",
      "7000\n",
      "8000\n",
      "9000\n",
      "10000\n",
      "11000\n",
      "12000\n",
      "13000\n",
      "14000\n",
      "15000\n",
      "16000\n",
      "17000\n",
      "18000\n",
      "19000\n",
      "100000.0 hands dealt:\n",
      "straightflush happens with probability 0.031%; odds against: 3224.81 : 1\n",
      "fourkind happens with probability 0.167%; odds against: 597.80 : 1\n",
      "fullhouse happens with probability 2.616%; odds against: 37.23 : 1\n",
      "flush happens with probability 3.092%; odds against: 31.34 : 1\n",
      "straight happens with probability 3.293%; odds against: 29.37 : 1\n",
      "threekind happens with probability 4.815%; odds against: 19.77 : 1\n",
      "twopair happens with probability 23.441%; odds against: 3.27 : 1\n",
      "pair happens with probability 44.683%; odds against: 1.24 : 1\n",
      "highcard happens with probability 17.862%; odds against: 4.60 : 1\n"
     ]
    }
   ],
   "source": [
    "# test code\n",
    "main()"
   ]
  },
  {
   "cell_type": "markdown",
   "metadata": {},
   "source": [
    "The following list of probabilities can serve as a guide to see if you are on track.\n",
    "https://en.wikipedia.org/wiki/Poker_probability#7-card_poker_hands"
   ]
  }
 ],
 "metadata": {
  "kernelspec": {
   "display_name": "Python 3 (ipykernel)",
   "language": "python",
   "name": "python3"
  },
  "language_info": {
   "codemirror_mode": {
    "name": "ipython",
    "version": 3
   },
   "file_extension": ".py",
   "mimetype": "text/x-python",
   "name": "python",
   "nbconvert_exporter": "python",
   "pygments_lexer": "ipython3",
   "version": "3.11.5"
  }
 },
 "nbformat": 4,
 "nbformat_minor": 4
}
